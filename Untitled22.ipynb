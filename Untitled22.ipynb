{
 "cells": [
  {
   "cell_type": "code",
   "execution_count": 1,
   "metadata": {},
   "outputs": [],
   "source": [
    "import pandas as pd \n",
    "import numpy as np                     # For mathematical calculations \n",
    "import seaborn as sns                  # For data visualization \n",
    "import matplotlib.pyplot as plt        # For plotting graphs \n",
    "%matplotlib inline \n",
    "import warnings         "
   ]
  },
  {
   "cell_type": "code",
   "execution_count": 3,
   "metadata": {},
   "outputs": [],
   "source": [
    "train=pd.read_csv(\"train.csv\")\n",
    "test=pd.read_csv(\"test.csv\")"
   ]
  },
  {
   "cell_type": "code",
   "execution_count": 4,
   "metadata": {},
   "outputs": [],
   "source": [
    "train_original=train.copy()\n",
    "test_original=test.copy()"
   ]
  },
  {
   "cell_type": "code",
   "execution_count": 5,
   "metadata": {},
   "outputs": [],
   "source": [
    "train['Age'].fillna(train['Age'].median(), inplace=True)"
   ]
  },
  {
   "cell_type": "code",
   "execution_count": 6,
   "metadata": {},
   "outputs": [],
   "source": [
    "test['Age'].fillna(train['Age'].median(), inplace=True)"
   ]
  },
  {
   "cell_type": "code",
   "execution_count": 7,
   "metadata": {},
   "outputs": [
    {
     "data": {
      "text/plain": [
       "Employee_ID                    0\n",
       "Gender                         0\n",
       "Age                            0\n",
       "Education_Level                0\n",
       "Relationship_Status            0\n",
       "Hometown                       0\n",
       "Unit                           0\n",
       "Decision_skill_possess         0\n",
       "Time_of_service              144\n",
       "Time_since_promotion           0\n",
       "growth_rate                    0\n",
       "Travel_Rate                    0\n",
       "Post_Level                     0\n",
       "Pay_Scale                      9\n",
       "Compensation_and_Benefits      0\n",
       "Work_Life_balance             11\n",
       "VAR1                           0\n",
       "VAR2                         577\n",
       "VAR3                           0\n",
       "VAR4                         656\n",
       "VAR5                           0\n",
       "VAR6                           0\n",
       "VAR7                           0\n",
       "Attrition_rate                 0\n",
       "dtype: int64"
      ]
     },
     "execution_count": 7,
     "metadata": {},
     "output_type": "execute_result"
    }
   ],
   "source": [
    "train.isna().sum()"
   ]
  },
  {
   "cell_type": "code",
   "execution_count": 8,
   "metadata": {},
   "outputs": [],
   "source": [
    "train['Time_of_service'].fillna(train['Time_of_service'].mode()[0], inplace=True) "
   ]
  },
  {
   "cell_type": "code",
   "execution_count": 9,
   "metadata": {},
   "outputs": [],
   "source": [
    "test['Time_of_service'].fillna(train['Time_of_service'].mode()[0], inplace=True) "
   ]
  },
  {
   "cell_type": "code",
   "execution_count": 10,
   "metadata": {},
   "outputs": [],
   "source": [
    "train['Pay_Scale'].fillna(train['Pay_Scale'].mean(), inplace=True) "
   ]
  },
  {
   "cell_type": "code",
   "execution_count": 11,
   "metadata": {},
   "outputs": [],
   "source": [
    "test['Pay_Scale'].fillna(train['Pay_Scale'].mean(), inplace=True) "
   ]
  },
  {
   "cell_type": "code",
   "execution_count": 12,
   "metadata": {},
   "outputs": [],
   "source": [
    "train['Work_Life_balance'].fillna(train['Work_Life_balance'].mode()[0], inplace=True) "
   ]
  },
  {
   "cell_type": "code",
   "execution_count": 13,
   "metadata": {},
   "outputs": [],
   "source": [
    "test['Work_Life_balance'].fillna(train['Work_Life_balance'].mode()[0], inplace=True) "
   ]
  },
  {
   "cell_type": "code",
   "execution_count": 14,
   "metadata": {},
   "outputs": [],
   "source": [
    "train['VAR2'].fillna(train['VAR2'].mode()[0], inplace=True) "
   ]
  },
  {
   "cell_type": "code",
   "execution_count": 16,
   "metadata": {},
   "outputs": [],
   "source": [
    "test['VAR2'].fillna(train['VAR2'].mode()[0], inplace=True) "
   ]
  },
  {
   "cell_type": "code",
   "execution_count": 17,
   "metadata": {},
   "outputs": [],
   "source": [
    "train['VAR4'].fillna(train['VAR4'].mode()[0], inplace=True)"
   ]
  },
  {
   "cell_type": "code",
   "execution_count": 18,
   "metadata": {},
   "outputs": [],
   "source": [
    "test['VAR4'].fillna(train['VAR4'].mode()[0], inplace=True) "
   ]
  },
  {
   "cell_type": "code",
   "execution_count": 19,
   "metadata": {},
   "outputs": [],
   "source": [
    "train=train.drop('Employee_ID',axis=1)"
   ]
  },
  {
   "cell_type": "code",
   "execution_count": 20,
   "metadata": {},
   "outputs": [],
   "source": [
    "test=test.drop('Employee_ID',axis=1)"
   ]
  },
  {
   "cell_type": "code",
   "execution_count": 21,
   "metadata": {},
   "outputs": [],
   "source": [
    "X = train.drop('Attrition_rate',1) \n",
    "y = train.Attrition_rate"
   ]
  },
  {
   "cell_type": "code",
   "execution_count": 22,
   "metadata": {},
   "outputs": [],
   "source": [
    "X=pd.get_dummies(X) \n",
    "train=pd.get_dummies(train) \n",
    "test=pd.get_dummies(test)"
   ]
  },
  {
   "cell_type": "code",
   "execution_count": 23,
   "metadata": {},
   "outputs": [
    {
     "data": {
      "text/html": [
       "<div>\n",
       "<style scoped>\n",
       "    .dataframe tbody tr th:only-of-type {\n",
       "        vertical-align: middle;\n",
       "    }\n",
       "\n",
       "    .dataframe tbody tr th {\n",
       "        vertical-align: top;\n",
       "    }\n",
       "\n",
       "    .dataframe thead th {\n",
       "        text-align: right;\n",
       "    }\n",
       "</style>\n",
       "<table border=\"1\" class=\"dataframe\">\n",
       "  <thead>\n",
       "    <tr style=\"text-align: right;\">\n",
       "      <th></th>\n",
       "      <th>Age</th>\n",
       "      <th>Education_Level</th>\n",
       "      <th>Time_of_service</th>\n",
       "      <th>Time_since_promotion</th>\n",
       "      <th>growth_rate</th>\n",
       "      <th>Travel_Rate</th>\n",
       "      <th>Post_Level</th>\n",
       "      <th>Pay_Scale</th>\n",
       "      <th>Work_Life_balance</th>\n",
       "      <th>VAR1</th>\n",
       "      <th>...</th>\n",
       "      <th>Unit_Security</th>\n",
       "      <th>Decision_skill_possess_Analytical</th>\n",
       "      <th>Decision_skill_possess_Behavioral</th>\n",
       "      <th>Decision_skill_possess_Conceptual</th>\n",
       "      <th>Decision_skill_possess_Directive</th>\n",
       "      <th>Compensation_and_Benefits_type0</th>\n",
       "      <th>Compensation_and_Benefits_type1</th>\n",
       "      <th>Compensation_and_Benefits_type2</th>\n",
       "      <th>Compensation_and_Benefits_type3</th>\n",
       "      <th>Compensation_and_Benefits_type4</th>\n",
       "    </tr>\n",
       "  </thead>\n",
       "  <tbody>\n",
       "    <tr>\n",
       "      <td>0</td>\n",
       "      <td>42.0</td>\n",
       "      <td>4</td>\n",
       "      <td>4.0</td>\n",
       "      <td>4</td>\n",
       "      <td>33</td>\n",
       "      <td>1</td>\n",
       "      <td>1</td>\n",
       "      <td>7.0</td>\n",
       "      <td>3.0</td>\n",
       "      <td>4</td>\n",
       "      <td>...</td>\n",
       "      <td>0</td>\n",
       "      <td>0</td>\n",
       "      <td>0</td>\n",
       "      <td>1</td>\n",
       "      <td>0</td>\n",
       "      <td>0</td>\n",
       "      <td>0</td>\n",
       "      <td>1</td>\n",
       "      <td>0</td>\n",
       "      <td>0</td>\n",
       "    </tr>\n",
       "    <tr>\n",
       "      <td>1</td>\n",
       "      <td>24.0</td>\n",
       "      <td>3</td>\n",
       "      <td>5.0</td>\n",
       "      <td>4</td>\n",
       "      <td>36</td>\n",
       "      <td>0</td>\n",
       "      <td>3</td>\n",
       "      <td>6.0</td>\n",
       "      <td>4.0</td>\n",
       "      <td>3</td>\n",
       "      <td>...</td>\n",
       "      <td>0</td>\n",
       "      <td>1</td>\n",
       "      <td>0</td>\n",
       "      <td>0</td>\n",
       "      <td>0</td>\n",
       "      <td>0</td>\n",
       "      <td>0</td>\n",
       "      <td>1</td>\n",
       "      <td>0</td>\n",
       "      <td>0</td>\n",
       "    </tr>\n",
       "    <tr>\n",
       "      <td>2</td>\n",
       "      <td>58.0</td>\n",
       "      <td>3</td>\n",
       "      <td>27.0</td>\n",
       "      <td>3</td>\n",
       "      <td>51</td>\n",
       "      <td>0</td>\n",
       "      <td>2</td>\n",
       "      <td>8.0</td>\n",
       "      <td>1.0</td>\n",
       "      <td>4</td>\n",
       "      <td>...</td>\n",
       "      <td>0</td>\n",
       "      <td>0</td>\n",
       "      <td>0</td>\n",
       "      <td>1</td>\n",
       "      <td>0</td>\n",
       "      <td>0</td>\n",
       "      <td>0</td>\n",
       "      <td>1</td>\n",
       "      <td>0</td>\n",
       "      <td>0</td>\n",
       "    </tr>\n",
       "    <tr>\n",
       "      <td>3</td>\n",
       "      <td>26.0</td>\n",
       "      <td>3</td>\n",
       "      <td>4.0</td>\n",
       "      <td>3</td>\n",
       "      <td>56</td>\n",
       "      <td>1</td>\n",
       "      <td>3</td>\n",
       "      <td>8.0</td>\n",
       "      <td>1.0</td>\n",
       "      <td>3</td>\n",
       "      <td>...</td>\n",
       "      <td>0</td>\n",
       "      <td>0</td>\n",
       "      <td>1</td>\n",
       "      <td>0</td>\n",
       "      <td>0</td>\n",
       "      <td>0</td>\n",
       "      <td>0</td>\n",
       "      <td>1</td>\n",
       "      <td>0</td>\n",
       "      <td>0</td>\n",
       "    </tr>\n",
       "    <tr>\n",
       "      <td>4</td>\n",
       "      <td>31.0</td>\n",
       "      <td>1</td>\n",
       "      <td>5.0</td>\n",
       "      <td>4</td>\n",
       "      <td>62</td>\n",
       "      <td>1</td>\n",
       "      <td>3</td>\n",
       "      <td>2.0</td>\n",
       "      <td>3.0</td>\n",
       "      <td>1</td>\n",
       "      <td>...</td>\n",
       "      <td>0</td>\n",
       "      <td>0</td>\n",
       "      <td>0</td>\n",
       "      <td>1</td>\n",
       "      <td>0</td>\n",
       "      <td>0</td>\n",
       "      <td>0</td>\n",
       "      <td>0</td>\n",
       "      <td>1</td>\n",
       "      <td>0</td>\n",
       "    </tr>\n",
       "    <tr>\n",
       "      <td>...</td>\n",
       "      <td>...</td>\n",
       "      <td>...</td>\n",
       "      <td>...</td>\n",
       "      <td>...</td>\n",
       "      <td>...</td>\n",
       "      <td>...</td>\n",
       "      <td>...</td>\n",
       "      <td>...</td>\n",
       "      <td>...</td>\n",
       "      <td>...</td>\n",
       "      <td>...</td>\n",
       "      <td>...</td>\n",
       "      <td>...</td>\n",
       "      <td>...</td>\n",
       "      <td>...</td>\n",
       "      <td>...</td>\n",
       "      <td>...</td>\n",
       "      <td>...</td>\n",
       "      <td>...</td>\n",
       "      <td>...</td>\n",
       "      <td>...</td>\n",
       "    </tr>\n",
       "    <tr>\n",
       "      <td>6995</td>\n",
       "      <td>23.0</td>\n",
       "      <td>5</td>\n",
       "      <td>4.0</td>\n",
       "      <td>1</td>\n",
       "      <td>20</td>\n",
       "      <td>1</td>\n",
       "      <td>2</td>\n",
       "      <td>6.0</td>\n",
       "      <td>3.0</td>\n",
       "      <td>1</td>\n",
       "      <td>...</td>\n",
       "      <td>0</td>\n",
       "      <td>0</td>\n",
       "      <td>1</td>\n",
       "      <td>0</td>\n",
       "      <td>0</td>\n",
       "      <td>0</td>\n",
       "      <td>0</td>\n",
       "      <td>0</td>\n",
       "      <td>1</td>\n",
       "      <td>0</td>\n",
       "    </tr>\n",
       "    <tr>\n",
       "      <td>6996</td>\n",
       "      <td>44.0</td>\n",
       "      <td>1</td>\n",
       "      <td>16.0</td>\n",
       "      <td>2</td>\n",
       "      <td>59</td>\n",
       "      <td>0</td>\n",
       "      <td>2</td>\n",
       "      <td>4.0</td>\n",
       "      <td>3.0</td>\n",
       "      <td>2</td>\n",
       "      <td>...</td>\n",
       "      <td>0</td>\n",
       "      <td>1</td>\n",
       "      <td>0</td>\n",
       "      <td>0</td>\n",
       "      <td>0</td>\n",
       "      <td>0</td>\n",
       "      <td>0</td>\n",
       "      <td>0</td>\n",
       "      <td>1</td>\n",
       "      <td>0</td>\n",
       "    </tr>\n",
       "    <tr>\n",
       "      <td>6997</td>\n",
       "      <td>49.0</td>\n",
       "      <td>3</td>\n",
       "      <td>10.0</td>\n",
       "      <td>1</td>\n",
       "      <td>59</td>\n",
       "      <td>1</td>\n",
       "      <td>2</td>\n",
       "      <td>3.0</td>\n",
       "      <td>4.0</td>\n",
       "      <td>2</td>\n",
       "      <td>...</td>\n",
       "      <td>0</td>\n",
       "      <td>0</td>\n",
       "      <td>0</td>\n",
       "      <td>0</td>\n",
       "      <td>1</td>\n",
       "      <td>0</td>\n",
       "      <td>0</td>\n",
       "      <td>1</td>\n",
       "      <td>0</td>\n",
       "      <td>0</td>\n",
       "    </tr>\n",
       "    <tr>\n",
       "      <td>6998</td>\n",
       "      <td>47.0</td>\n",
       "      <td>3</td>\n",
       "      <td>24.0</td>\n",
       "      <td>1</td>\n",
       "      <td>21</td>\n",
       "      <td>1</td>\n",
       "      <td>5</td>\n",
       "      <td>8.0</td>\n",
       "      <td>2.0</td>\n",
       "      <td>4</td>\n",
       "      <td>...</td>\n",
       "      <td>0</td>\n",
       "      <td>0</td>\n",
       "      <td>1</td>\n",
       "      <td>0</td>\n",
       "      <td>0</td>\n",
       "      <td>1</td>\n",
       "      <td>0</td>\n",
       "      <td>0</td>\n",
       "      <td>0</td>\n",
       "      <td>0</td>\n",
       "    </tr>\n",
       "    <tr>\n",
       "      <td>6999</td>\n",
       "      <td>58.0</td>\n",
       "      <td>3</td>\n",
       "      <td>22.0</td>\n",
       "      <td>2</td>\n",
       "      <td>74</td>\n",
       "      <td>0</td>\n",
       "      <td>4</td>\n",
       "      <td>5.0</td>\n",
       "      <td>3.0</td>\n",
       "      <td>3</td>\n",
       "      <td>...</td>\n",
       "      <td>0</td>\n",
       "      <td>0</td>\n",
       "      <td>0</td>\n",
       "      <td>0</td>\n",
       "      <td>1</td>\n",
       "      <td>0</td>\n",
       "      <td>0</td>\n",
       "      <td>1</td>\n",
       "      <td>0</td>\n",
       "      <td>0</td>\n",
       "    </tr>\n",
       "  </tbody>\n",
       "</table>\n",
       "<p>7000 rows × 46 columns</p>\n",
       "</div>"
      ],
      "text/plain": [
       "       Age  Education_Level  Time_of_service  Time_since_promotion  \\\n",
       "0     42.0                4              4.0                     4   \n",
       "1     24.0                3              5.0                     4   \n",
       "2     58.0                3             27.0                     3   \n",
       "3     26.0                3              4.0                     3   \n",
       "4     31.0                1              5.0                     4   \n",
       "...    ...              ...              ...                   ...   \n",
       "6995  23.0                5              4.0                     1   \n",
       "6996  44.0                1             16.0                     2   \n",
       "6997  49.0                3             10.0                     1   \n",
       "6998  47.0                3             24.0                     1   \n",
       "6999  58.0                3             22.0                     2   \n",
       "\n",
       "      growth_rate  Travel_Rate  Post_Level  Pay_Scale  Work_Life_balance  \\\n",
       "0              33            1           1        7.0                3.0   \n",
       "1              36            0           3        6.0                4.0   \n",
       "2              51            0           2        8.0                1.0   \n",
       "3              56            1           3        8.0                1.0   \n",
       "4              62            1           3        2.0                3.0   \n",
       "...           ...          ...         ...        ...                ...   \n",
       "6995           20            1           2        6.0                3.0   \n",
       "6996           59            0           2        4.0                3.0   \n",
       "6997           59            1           2        3.0                4.0   \n",
       "6998           21            1           5        8.0                2.0   \n",
       "6999           74            0           4        5.0                3.0   \n",
       "\n",
       "      VAR1  ...  Unit_Security  Decision_skill_possess_Analytical  \\\n",
       "0        4  ...              0                                  0   \n",
       "1        3  ...              0                                  1   \n",
       "2        4  ...              0                                  0   \n",
       "3        3  ...              0                                  0   \n",
       "4        1  ...              0                                  0   \n",
       "...    ...  ...            ...                                ...   \n",
       "6995     1  ...              0                                  0   \n",
       "6996     2  ...              0                                  1   \n",
       "6997     2  ...              0                                  0   \n",
       "6998     4  ...              0                                  0   \n",
       "6999     3  ...              0                                  0   \n",
       "\n",
       "      Decision_skill_possess_Behavioral  Decision_skill_possess_Conceptual  \\\n",
       "0                                     0                                  1   \n",
       "1                                     0                                  0   \n",
       "2                                     0                                  1   \n",
       "3                                     1                                  0   \n",
       "4                                     0                                  1   \n",
       "...                                 ...                                ...   \n",
       "6995                                  1                                  0   \n",
       "6996                                  0                                  0   \n",
       "6997                                  0                                  0   \n",
       "6998                                  1                                  0   \n",
       "6999                                  0                                  0   \n",
       "\n",
       "      Decision_skill_possess_Directive  Compensation_and_Benefits_type0  \\\n",
       "0                                    0                                0   \n",
       "1                                    0                                0   \n",
       "2                                    0                                0   \n",
       "3                                    0                                0   \n",
       "4                                    0                                0   \n",
       "...                                ...                              ...   \n",
       "6995                                 0                                0   \n",
       "6996                                 0                                0   \n",
       "6997                                 1                                0   \n",
       "6998                                 0                                1   \n",
       "6999                                 1                                0   \n",
       "\n",
       "      Compensation_and_Benefits_type1  Compensation_and_Benefits_type2  \\\n",
       "0                                   0                                1   \n",
       "1                                   0                                1   \n",
       "2                                   0                                1   \n",
       "3                                   0                                1   \n",
       "4                                   0                                0   \n",
       "...                               ...                              ...   \n",
       "6995                                0                                0   \n",
       "6996                                0                                0   \n",
       "6997                                0                                1   \n",
       "6998                                0                                0   \n",
       "6999                                0                                1   \n",
       "\n",
       "      Compensation_and_Benefits_type3  Compensation_and_Benefits_type4  \n",
       "0                                   0                                0  \n",
       "1                                   0                                0  \n",
       "2                                   0                                0  \n",
       "3                                   0                                0  \n",
       "4                                   1                                0  \n",
       "...                               ...                              ...  \n",
       "6995                                1                                0  \n",
       "6996                                1                                0  \n",
       "6997                                0                                0  \n",
       "6998                                0                                0  \n",
       "6999                                0                                0  \n",
       "\n",
       "[7000 rows x 46 columns]"
      ]
     },
     "execution_count": 23,
     "metadata": {},
     "output_type": "execute_result"
    }
   ],
   "source": [
    "X"
   ]
  },
  {
   "cell_type": "code",
   "execution_count": 24,
   "metadata": {},
   "outputs": [],
   "source": [
    "from sklearn.preprocessing import StandardScaler\n",
    "\n",
    "from sklearn.model_selection import train_test_split \n",
    "x_train, x_cv, y_train, y_cv = train_test_split(X,y, test_size =0.3, random_state=1)"
   ]
  },
  {
   "cell_type": "code",
   "execution_count": 25,
   "metadata": {},
   "outputs": [],
   "source": [
    "from sklearn.model_selection import KFold\n",
    "kf=KFold(n_splits=5,shuffle=True)"
   ]
  },
  {
   "cell_type": "code",
   "execution_count": 26,
   "metadata": {},
   "outputs": [
    {
     "data": {
      "text/html": [
       "<div>\n",
       "<style scoped>\n",
       "    .dataframe tbody tr th:only-of-type {\n",
       "        vertical-align: middle;\n",
       "    }\n",
       "\n",
       "    .dataframe tbody tr th {\n",
       "        vertical-align: top;\n",
       "    }\n",
       "\n",
       "    .dataframe thead th {\n",
       "        text-align: right;\n",
       "    }\n",
       "</style>\n",
       "<table border=\"1\" class=\"dataframe\">\n",
       "  <thead>\n",
       "    <tr style=\"text-align: right;\">\n",
       "      <th></th>\n",
       "      <th>Age</th>\n",
       "      <th>Education_Level</th>\n",
       "      <th>Time_of_service</th>\n",
       "      <th>Time_since_promotion</th>\n",
       "      <th>growth_rate</th>\n",
       "      <th>Travel_Rate</th>\n",
       "      <th>Post_Level</th>\n",
       "      <th>Pay_Scale</th>\n",
       "      <th>Work_Life_balance</th>\n",
       "      <th>VAR1</th>\n",
       "      <th>...</th>\n",
       "      <th>Unit_Security</th>\n",
       "      <th>Decision_skill_possess_Analytical</th>\n",
       "      <th>Decision_skill_possess_Behavioral</th>\n",
       "      <th>Decision_skill_possess_Conceptual</th>\n",
       "      <th>Decision_skill_possess_Directive</th>\n",
       "      <th>Compensation_and_Benefits_type0</th>\n",
       "      <th>Compensation_and_Benefits_type1</th>\n",
       "      <th>Compensation_and_Benefits_type2</th>\n",
       "      <th>Compensation_and_Benefits_type3</th>\n",
       "      <th>Compensation_and_Benefits_type4</th>\n",
       "    </tr>\n",
       "  </thead>\n",
       "  <tbody>\n",
       "    <tr>\n",
       "      <td>0</td>\n",
       "      <td>42.0</td>\n",
       "      <td>4</td>\n",
       "      <td>4.0</td>\n",
       "      <td>4</td>\n",
       "      <td>33</td>\n",
       "      <td>1</td>\n",
       "      <td>1</td>\n",
       "      <td>7.0</td>\n",
       "      <td>3.0</td>\n",
       "      <td>4</td>\n",
       "      <td>...</td>\n",
       "      <td>0</td>\n",
       "      <td>0</td>\n",
       "      <td>0</td>\n",
       "      <td>1</td>\n",
       "      <td>0</td>\n",
       "      <td>0</td>\n",
       "      <td>0</td>\n",
       "      <td>1</td>\n",
       "      <td>0</td>\n",
       "      <td>0</td>\n",
       "    </tr>\n",
       "    <tr>\n",
       "      <td>1</td>\n",
       "      <td>24.0</td>\n",
       "      <td>3</td>\n",
       "      <td>5.0</td>\n",
       "      <td>4</td>\n",
       "      <td>36</td>\n",
       "      <td>0</td>\n",
       "      <td>3</td>\n",
       "      <td>6.0</td>\n",
       "      <td>4.0</td>\n",
       "      <td>3</td>\n",
       "      <td>...</td>\n",
       "      <td>0</td>\n",
       "      <td>1</td>\n",
       "      <td>0</td>\n",
       "      <td>0</td>\n",
       "      <td>0</td>\n",
       "      <td>0</td>\n",
       "      <td>0</td>\n",
       "      <td>1</td>\n",
       "      <td>0</td>\n",
       "      <td>0</td>\n",
       "    </tr>\n",
       "    <tr>\n",
       "      <td>2</td>\n",
       "      <td>58.0</td>\n",
       "      <td>3</td>\n",
       "      <td>27.0</td>\n",
       "      <td>3</td>\n",
       "      <td>51</td>\n",
       "      <td>0</td>\n",
       "      <td>2</td>\n",
       "      <td>8.0</td>\n",
       "      <td>1.0</td>\n",
       "      <td>4</td>\n",
       "      <td>...</td>\n",
       "      <td>0</td>\n",
       "      <td>0</td>\n",
       "      <td>0</td>\n",
       "      <td>1</td>\n",
       "      <td>0</td>\n",
       "      <td>0</td>\n",
       "      <td>0</td>\n",
       "      <td>1</td>\n",
       "      <td>0</td>\n",
       "      <td>0</td>\n",
       "    </tr>\n",
       "    <tr>\n",
       "      <td>3</td>\n",
       "      <td>26.0</td>\n",
       "      <td>3</td>\n",
       "      <td>4.0</td>\n",
       "      <td>3</td>\n",
       "      <td>56</td>\n",
       "      <td>1</td>\n",
       "      <td>3</td>\n",
       "      <td>8.0</td>\n",
       "      <td>1.0</td>\n",
       "      <td>3</td>\n",
       "      <td>...</td>\n",
       "      <td>0</td>\n",
       "      <td>0</td>\n",
       "      <td>1</td>\n",
       "      <td>0</td>\n",
       "      <td>0</td>\n",
       "      <td>0</td>\n",
       "      <td>0</td>\n",
       "      <td>1</td>\n",
       "      <td>0</td>\n",
       "      <td>0</td>\n",
       "    </tr>\n",
       "    <tr>\n",
       "      <td>4</td>\n",
       "      <td>31.0</td>\n",
       "      <td>1</td>\n",
       "      <td>5.0</td>\n",
       "      <td>4</td>\n",
       "      <td>62</td>\n",
       "      <td>1</td>\n",
       "      <td>3</td>\n",
       "      <td>2.0</td>\n",
       "      <td>3.0</td>\n",
       "      <td>1</td>\n",
       "      <td>...</td>\n",
       "      <td>0</td>\n",
       "      <td>0</td>\n",
       "      <td>0</td>\n",
       "      <td>1</td>\n",
       "      <td>0</td>\n",
       "      <td>0</td>\n",
       "      <td>0</td>\n",
       "      <td>0</td>\n",
       "      <td>1</td>\n",
       "      <td>0</td>\n",
       "    </tr>\n",
       "    <tr>\n",
       "      <td>...</td>\n",
       "      <td>...</td>\n",
       "      <td>...</td>\n",
       "      <td>...</td>\n",
       "      <td>...</td>\n",
       "      <td>...</td>\n",
       "      <td>...</td>\n",
       "      <td>...</td>\n",
       "      <td>...</td>\n",
       "      <td>...</td>\n",
       "      <td>...</td>\n",
       "      <td>...</td>\n",
       "      <td>...</td>\n",
       "      <td>...</td>\n",
       "      <td>...</td>\n",
       "      <td>...</td>\n",
       "      <td>...</td>\n",
       "      <td>...</td>\n",
       "      <td>...</td>\n",
       "      <td>...</td>\n",
       "      <td>...</td>\n",
       "      <td>...</td>\n",
       "    </tr>\n",
       "    <tr>\n",
       "      <td>6995</td>\n",
       "      <td>23.0</td>\n",
       "      <td>5</td>\n",
       "      <td>4.0</td>\n",
       "      <td>1</td>\n",
       "      <td>20</td>\n",
       "      <td>1</td>\n",
       "      <td>2</td>\n",
       "      <td>6.0</td>\n",
       "      <td>3.0</td>\n",
       "      <td>1</td>\n",
       "      <td>...</td>\n",
       "      <td>0</td>\n",
       "      <td>0</td>\n",
       "      <td>1</td>\n",
       "      <td>0</td>\n",
       "      <td>0</td>\n",
       "      <td>0</td>\n",
       "      <td>0</td>\n",
       "      <td>0</td>\n",
       "      <td>1</td>\n",
       "      <td>0</td>\n",
       "    </tr>\n",
       "    <tr>\n",
       "      <td>6996</td>\n",
       "      <td>44.0</td>\n",
       "      <td>1</td>\n",
       "      <td>16.0</td>\n",
       "      <td>2</td>\n",
       "      <td>59</td>\n",
       "      <td>0</td>\n",
       "      <td>2</td>\n",
       "      <td>4.0</td>\n",
       "      <td>3.0</td>\n",
       "      <td>2</td>\n",
       "      <td>...</td>\n",
       "      <td>0</td>\n",
       "      <td>1</td>\n",
       "      <td>0</td>\n",
       "      <td>0</td>\n",
       "      <td>0</td>\n",
       "      <td>0</td>\n",
       "      <td>0</td>\n",
       "      <td>0</td>\n",
       "      <td>1</td>\n",
       "      <td>0</td>\n",
       "    </tr>\n",
       "    <tr>\n",
       "      <td>6997</td>\n",
       "      <td>49.0</td>\n",
       "      <td>3</td>\n",
       "      <td>10.0</td>\n",
       "      <td>1</td>\n",
       "      <td>59</td>\n",
       "      <td>1</td>\n",
       "      <td>2</td>\n",
       "      <td>3.0</td>\n",
       "      <td>4.0</td>\n",
       "      <td>2</td>\n",
       "      <td>...</td>\n",
       "      <td>0</td>\n",
       "      <td>0</td>\n",
       "      <td>0</td>\n",
       "      <td>0</td>\n",
       "      <td>1</td>\n",
       "      <td>0</td>\n",
       "      <td>0</td>\n",
       "      <td>1</td>\n",
       "      <td>0</td>\n",
       "      <td>0</td>\n",
       "    </tr>\n",
       "    <tr>\n",
       "      <td>6998</td>\n",
       "      <td>47.0</td>\n",
       "      <td>3</td>\n",
       "      <td>24.0</td>\n",
       "      <td>1</td>\n",
       "      <td>21</td>\n",
       "      <td>1</td>\n",
       "      <td>5</td>\n",
       "      <td>8.0</td>\n",
       "      <td>2.0</td>\n",
       "      <td>4</td>\n",
       "      <td>...</td>\n",
       "      <td>0</td>\n",
       "      <td>0</td>\n",
       "      <td>1</td>\n",
       "      <td>0</td>\n",
       "      <td>0</td>\n",
       "      <td>1</td>\n",
       "      <td>0</td>\n",
       "      <td>0</td>\n",
       "      <td>0</td>\n",
       "      <td>0</td>\n",
       "    </tr>\n",
       "    <tr>\n",
       "      <td>6999</td>\n",
       "      <td>58.0</td>\n",
       "      <td>3</td>\n",
       "      <td>22.0</td>\n",
       "      <td>2</td>\n",
       "      <td>74</td>\n",
       "      <td>0</td>\n",
       "      <td>4</td>\n",
       "      <td>5.0</td>\n",
       "      <td>3.0</td>\n",
       "      <td>3</td>\n",
       "      <td>...</td>\n",
       "      <td>0</td>\n",
       "      <td>0</td>\n",
       "      <td>0</td>\n",
       "      <td>0</td>\n",
       "      <td>1</td>\n",
       "      <td>0</td>\n",
       "      <td>0</td>\n",
       "      <td>1</td>\n",
       "      <td>0</td>\n",
       "      <td>0</td>\n",
       "    </tr>\n",
       "  </tbody>\n",
       "</table>\n",
       "<p>7000 rows × 46 columns</p>\n",
       "</div>"
      ],
      "text/plain": [
       "       Age  Education_Level  Time_of_service  Time_since_promotion  \\\n",
       "0     42.0                4              4.0                     4   \n",
       "1     24.0                3              5.0                     4   \n",
       "2     58.0                3             27.0                     3   \n",
       "3     26.0                3              4.0                     3   \n",
       "4     31.0                1              5.0                     4   \n",
       "...    ...              ...              ...                   ...   \n",
       "6995  23.0                5              4.0                     1   \n",
       "6996  44.0                1             16.0                     2   \n",
       "6997  49.0                3             10.0                     1   \n",
       "6998  47.0                3             24.0                     1   \n",
       "6999  58.0                3             22.0                     2   \n",
       "\n",
       "      growth_rate  Travel_Rate  Post_Level  Pay_Scale  Work_Life_balance  \\\n",
       "0              33            1           1        7.0                3.0   \n",
       "1              36            0           3        6.0                4.0   \n",
       "2              51            0           2        8.0                1.0   \n",
       "3              56            1           3        8.0                1.0   \n",
       "4              62            1           3        2.0                3.0   \n",
       "...           ...          ...         ...        ...                ...   \n",
       "6995           20            1           2        6.0                3.0   \n",
       "6996           59            0           2        4.0                3.0   \n",
       "6997           59            1           2        3.0                4.0   \n",
       "6998           21            1           5        8.0                2.0   \n",
       "6999           74            0           4        5.0                3.0   \n",
       "\n",
       "      VAR1  ...  Unit_Security  Decision_skill_possess_Analytical  \\\n",
       "0        4  ...              0                                  0   \n",
       "1        3  ...              0                                  1   \n",
       "2        4  ...              0                                  0   \n",
       "3        3  ...              0                                  0   \n",
       "4        1  ...              0                                  0   \n",
       "...    ...  ...            ...                                ...   \n",
       "6995     1  ...              0                                  0   \n",
       "6996     2  ...              0                                  1   \n",
       "6997     2  ...              0                                  0   \n",
       "6998     4  ...              0                                  0   \n",
       "6999     3  ...              0                                  0   \n",
       "\n",
       "      Decision_skill_possess_Behavioral  Decision_skill_possess_Conceptual  \\\n",
       "0                                     0                                  1   \n",
       "1                                     0                                  0   \n",
       "2                                     0                                  1   \n",
       "3                                     1                                  0   \n",
       "4                                     0                                  1   \n",
       "...                                 ...                                ...   \n",
       "6995                                  1                                  0   \n",
       "6996                                  0                                  0   \n",
       "6997                                  0                                  0   \n",
       "6998                                  1                                  0   \n",
       "6999                                  0                                  0   \n",
       "\n",
       "      Decision_skill_possess_Directive  Compensation_and_Benefits_type0  \\\n",
       "0                                    0                                0   \n",
       "1                                    0                                0   \n",
       "2                                    0                                0   \n",
       "3                                    0                                0   \n",
       "4                                    0                                0   \n",
       "...                                ...                              ...   \n",
       "6995                                 0                                0   \n",
       "6996                                 0                                0   \n",
       "6997                                 1                                0   \n",
       "6998                                 0                                1   \n",
       "6999                                 1                                0   \n",
       "\n",
       "      Compensation_and_Benefits_type1  Compensation_and_Benefits_type2  \\\n",
       "0                                   0                                1   \n",
       "1                                   0                                1   \n",
       "2                                   0                                1   \n",
       "3                                   0                                1   \n",
       "4                                   0                                0   \n",
       "...                               ...                              ...   \n",
       "6995                                0                                0   \n",
       "6996                                0                                0   \n",
       "6997                                0                                1   \n",
       "6998                                0                                0   \n",
       "6999                                0                                1   \n",
       "\n",
       "      Compensation_and_Benefits_type3  Compensation_and_Benefits_type4  \n",
       "0                                   0                                0  \n",
       "1                                   0                                0  \n",
       "2                                   0                                0  \n",
       "3                                   0                                0  \n",
       "4                                   1                                0  \n",
       "...                               ...                              ...  \n",
       "6995                                1                                0  \n",
       "6996                                1                                0  \n",
       "6997                                0                                0  \n",
       "6998                                0                                0  \n",
       "6999                                0                                0  \n",
       "\n",
       "[7000 rows x 46 columns]"
      ]
     },
     "execution_count": 26,
     "metadata": {},
     "output_type": "execute_result"
    }
   ],
   "source": [
    "X"
   ]
  },
  {
   "cell_type": "code",
   "execution_count": 27,
   "metadata": {},
   "outputs": [],
   "source": [
    "n=np.array(X)"
   ]
  },
  {
   "cell_type": "code",
   "execution_count": 28,
   "metadata": {},
   "outputs": [],
   "source": [
    "for x,xd in kf.split(X):\n",
    "    x_tr,x_te=n[x],n[xd]\n",
    "    y_tr,y_te=y[x],y[xd]\n",
    "    "
   ]
  },
  {
   "cell_type": "code",
   "execution_count": 29,
   "metadata": {},
   "outputs": [
    {
     "data": {
      "text/plain": [
       "array([[42.,  4.,  4., ...,  1.,  0.,  0.],\n",
       "       [24.,  3.,  5., ...,  1.,  0.,  0.],\n",
       "       [26.,  3.,  4., ...,  1.,  0.,  0.],\n",
       "       ...,\n",
       "       [44.,  1., 16., ...,  0.,  1.,  0.],\n",
       "       [47.,  3., 24., ...,  0.,  0.,  0.],\n",
       "       [58.,  3., 22., ...,  1.,  0.,  0.]])"
      ]
     },
     "execution_count": 29,
     "metadata": {},
     "output_type": "execute_result"
    }
   ],
   "source": [
    "x_tr"
   ]
  },
  {
   "cell_type": "code",
   "execution_count": 30,
   "metadata": {},
   "outputs": [],
   "source": [
    "x_tra = pd.DataFrame(data=x_tr,  columns=X.columns)"
   ]
  },
  {
   "cell_type": "code",
   "execution_count": 31,
   "metadata": {},
   "outputs": [],
   "source": [
    "x_tes=pd.DataFrame(data=x_te,columns=X.columns)"
   ]
  },
  {
   "cell_type": "code",
   "execution_count": 32,
   "metadata": {},
   "outputs": [],
   "source": [
    "from sklearn.preprocessing import StandardScaler, Normalizer\n",
    "#x_train->x_tra\n",
    "std = StandardScaler()\n",
    "std_train_data = std.fit_transform(x_tra)\n",
    "#x_cv->x_tes\n",
    "norm = Normalizer()\n",
    "norm_train_data = norm.fit_transform(x_tra)\n",
    "norm_test_data=norm.fit_transform(x_tes)\n",
    "norm_data_test=norm.fit_transform(test)"
   ]
  },
  {
   "cell_type": "code",
   "execution_count": 33,
   "metadata": {},
   "outputs": [
    {
     "data": {
      "text/plain": [
       "array([[0.76161763, 0.07253501, 0.07253501, ..., 0.01813375, 0.        ,\n",
       "        0.        ],\n",
       "       [0.5305724 , 0.06632155, 0.11053592, ..., 0.02210718, 0.        ,\n",
       "        0.        ],\n",
       "       [0.41055711, 0.04737197, 0.06316263, ..., 0.01579066, 0.        ,\n",
       "        0.        ],\n",
       "       ...,\n",
       "       [0.57652111, 0.01310275, 0.20964404, ..., 0.        , 0.01310275,\n",
       "        0.        ],\n",
       "       [0.8043822 , 0.05134354, 0.41074836, ..., 0.        , 0.        ,\n",
       "        0.        ],\n",
       "       [0.59621015, 0.03083846, 0.22614868, ..., 0.01027949, 0.        ,\n",
       "        0.        ]])"
      ]
     },
     "execution_count": 33,
     "metadata": {},
     "output_type": "execute_result"
    }
   ],
   "source": [
    "norm_train_data"
   ]
  },
  {
   "cell_type": "code",
   "execution_count": 34,
   "metadata": {},
   "outputs": [
    {
     "name": "stdout",
     "output_type": "stream",
     "text": [
      "(5600, 2) \n",
      "\n",
      "[0.78283262 0.11099258]\n"
     ]
    }
   ],
   "source": [
    "from sklearn.decomposition import PCA\n",
    "\n",
    "pca = PCA(0.85, whiten=True)\n",
    "pca_train_data = pca.fit_transform(norm_train_data)\n",
    "pca_test_data=pca.fit_transform(norm_test_data)\n",
    "pca_test=pca.fit_transform(norm_data_test)\n",
    "print(pca_train_data.shape,'\\n')\n",
    "\n",
    "explained_variance = pca.explained_variance_ratio_ \n",
    "print(explained_variance)"
   ]
  },
  {
   "cell_type": "code",
   "execution_count": 33,
   "metadata": {},
   "outputs": [
    {
     "data": {
      "text/plain": [
       "LinearRegression(copy_X=True, fit_intercept=True, n_jobs=None, normalize=False)"
      ]
     },
     "execution_count": 33,
     "metadata": {},
     "output_type": "execute_result"
    }
   ],
   "source": [
    "from sklearn.linear_model import LinearRegression \n",
    "\n",
    "model = LinearRegression(random state=0) \n",
    "model.fit(pca_train_data, y_tr)"
   ]
  },
  {
   "cell_type": "code",
   "execution_count": 34,
   "metadata": {},
   "outputs": [
    {
     "data": {
      "text/plain": [
       "(1400, 2)"
      ]
     },
     "execution_count": 34,
     "metadata": {},
     "output_type": "execute_result"
    }
   ],
   "source": [
    "pca_test_data.shape"
   ]
  },
  {
   "cell_type": "code",
   "execution_count": 35,
   "metadata": {},
   "outputs": [],
   "source": [
    "pred_cv = model.predict(pca_test_data)"
   ]
  },
  {
   "cell_type": "code",
   "execution_count": 66,
   "metadata": {},
   "outputs": [
    {
     "name": "stdout",
     "output_type": "stream",
     "text": [
      "0.000789322205449472\n"
     ]
    }
   ],
   "source": [
    "print(model.score(pca_train_data,y_tr))"
   ]
  },
  {
   "cell_type": "code",
   "execution_count": 36,
   "metadata": {},
   "outputs": [
    {
     "name": "stdout",
     "output_type": "stream",
     "text": [
      "80.91101464255732\n"
     ]
    }
   ],
   "source": [
    "from sklearn.metrics import mean_squared_error\n",
    "\n",
    "from math import sqrt\n",
    "\n",
    "rmse = sqrt(mean_squared_error(y_te, pred_cv))\n",
    "score=100*max(0,1-rmse)\n",
    "\n",
    "print(score)"
   ]
  },
  {
   "cell_type": "code",
   "execution_count": 37,
   "metadata": {},
   "outputs": [
    {
     "data": {
      "text/plain": [
       "-0.0013606138272990176"
      ]
     },
     "execution_count": 37,
     "metadata": {},
     "output_type": "execute_result"
    }
   ],
   "source": [
    "from sklearn import metrics\n",
    "metrics.r2_score(y_te,pred_cv)"
   ]
  },
  {
   "cell_type": "code",
   "execution_count": 38,
   "metadata": {},
   "outputs": [],
   "source": [
    "pred_test = model.predict(pca_test)"
   ]
  },
  {
   "cell_type": "code",
   "execution_count": 39,
   "metadata": {},
   "outputs": [
    {
     "data": {
      "text/plain": [
       "array([0.18672485, 0.18752181, 0.1799342 , ..., 0.18793053, 0.18148011,\n",
       "       0.1921722 ])"
      ]
     },
     "execution_count": 39,
     "metadata": {},
     "output_type": "execute_result"
    }
   ],
   "source": [
    "pred_test"
   ]
  },
  {
   "cell_type": "code",
   "execution_count": 40,
   "metadata": {},
   "outputs": [],
   "source": [
    "test_originals=test_original.copy()"
   ]
  },
  {
   "cell_type": "code",
   "execution_count": 41,
   "metadata": {},
   "outputs": [],
   "source": [
    "test_originals['Attrition_rate']=pred_test"
   ]
  },
  {
   "cell_type": "code",
   "execution_count": 42,
   "metadata": {},
   "outputs": [],
   "source": [
    "daf=pd.DataFrame(test_originals,columns=['Employee_ID','Attrition_rate'])"
   ]
  },
  {
   "cell_type": "code",
   "execution_count": 43,
   "metadata": {},
   "outputs": [
    {
     "data": {
      "text/html": [
       "<div>\n",
       "<style scoped>\n",
       "    .dataframe tbody tr th:only-of-type {\n",
       "        vertical-align: middle;\n",
       "    }\n",
       "\n",
       "    .dataframe tbody tr th {\n",
       "        vertical-align: top;\n",
       "    }\n",
       "\n",
       "    .dataframe thead th {\n",
       "        text-align: right;\n",
       "    }\n",
       "</style>\n",
       "<table border=\"1\" class=\"dataframe\">\n",
       "  <thead>\n",
       "    <tr style=\"text-align: right;\">\n",
       "      <th></th>\n",
       "      <th>Employee_ID</th>\n",
       "      <th>Attrition_rate</th>\n",
       "    </tr>\n",
       "  </thead>\n",
       "  <tbody>\n",
       "    <tr>\n",
       "      <td>0</td>\n",
       "      <td>EID_22713</td>\n",
       "      <td>0.186725</td>\n",
       "    </tr>\n",
       "    <tr>\n",
       "      <td>1</td>\n",
       "      <td>EID_9658</td>\n",
       "      <td>0.187522</td>\n",
       "    </tr>\n",
       "    <tr>\n",
       "      <td>2</td>\n",
       "      <td>EID_22203</td>\n",
       "      <td>0.179934</td>\n",
       "    </tr>\n",
       "    <tr>\n",
       "      <td>3</td>\n",
       "      <td>EID_7652</td>\n",
       "      <td>0.181792</td>\n",
       "    </tr>\n",
       "    <tr>\n",
       "      <td>4</td>\n",
       "      <td>EID_6516</td>\n",
       "      <td>0.188177</td>\n",
       "    </tr>\n",
       "    <tr>\n",
       "      <td>...</td>\n",
       "      <td>...</td>\n",
       "      <td>...</td>\n",
       "    </tr>\n",
       "    <tr>\n",
       "      <td>2995</td>\n",
       "      <td>EID_22547</td>\n",
       "      <td>0.189782</td>\n",
       "    </tr>\n",
       "    <tr>\n",
       "      <td>2996</td>\n",
       "      <td>EID_10066</td>\n",
       "      <td>0.191933</td>\n",
       "    </tr>\n",
       "    <tr>\n",
       "      <td>2997</td>\n",
       "      <td>EID_7126</td>\n",
       "      <td>0.187931</td>\n",
       "    </tr>\n",
       "    <tr>\n",
       "      <td>2998</td>\n",
       "      <td>EID_4929</td>\n",
       "      <td>0.181480</td>\n",
       "    </tr>\n",
       "    <tr>\n",
       "      <td>2999</td>\n",
       "      <td>EID_24750</td>\n",
       "      <td>0.192172</td>\n",
       "    </tr>\n",
       "  </tbody>\n",
       "</table>\n",
       "<p>3000 rows × 2 columns</p>\n",
       "</div>"
      ],
      "text/plain": [
       "     Employee_ID  Attrition_rate\n",
       "0      EID_22713        0.186725\n",
       "1       EID_9658        0.187522\n",
       "2      EID_22203        0.179934\n",
       "3       EID_7652        0.181792\n",
       "4       EID_6516        0.188177\n",
       "...          ...             ...\n",
       "2995   EID_22547        0.189782\n",
       "2996   EID_10066        0.191933\n",
       "2997    EID_7126        0.187931\n",
       "2998    EID_4929        0.181480\n",
       "2999   EID_24750        0.192172\n",
       "\n",
       "[3000 rows x 2 columns]"
      ]
     },
     "execution_count": 43,
     "metadata": {},
     "output_type": "execute_result"
    }
   ],
   "source": [
    "daf"
   ]
  },
  {
   "cell_type": "code",
   "execution_count": 47,
   "metadata": {},
   "outputs": [],
   "source": [
    "pd.DataFrame(test_originals, columns=['Employee_ID','Attrition_rate']).to_csv('C:/Users/Dell/Downloads/trial16L.csv',mode = 'w', index=False)"
   ]
  },
  {
   "cell_type": "code",
   "execution_count": 44,
   "metadata": {},
   "outputs": [
    {
     "data": {
      "text/plain": [
       "GridSearchCV(cv=15, error_score='raise-deprecating',\n",
       "             estimator=XGBRegressor(base_score=None, booster=None,\n",
       "                                    colsample_bylevel=None,\n",
       "                                    colsample_bynode=None,\n",
       "                                    colsample_bytree=None, gamma=None,\n",
       "                                    gpu_id=None, importance_type='gain',\n",
       "                                    interaction_constraints=None,\n",
       "                                    learning_rate=None, max_delta_step=None,\n",
       "                                    max_depth=None, min_child_weight=None,\n",
       "                                    missing=nan, monotone_constrai...\n",
       "                                    random_state=None, reg_alpha=None,\n",
       "                                    reg_lambda=None, scale_pos_weight=None,\n",
       "                                    subsample=None, tree_method=None,\n",
       "                                    validate_parameters=None, verbosity=None),\n",
       "             iid='warn', n_jobs=None,\n",
       "             param_grid={'max_depth': [1, 3, 5, 7, 9, 11, 13, 15, 17, 19],\n",
       "                         'n_estimators': [1, 21, 41, 61, 81, 101, 121, 141, 161,\n",
       "                                          181]},\n",
       "             pre_dispatch='2*n_jobs', refit=True, return_train_score=False,\n",
       "             scoring=None, verbose=0)"
      ]
     },
     "execution_count": 44,
     "metadata": {},
     "output_type": "execute_result"
    }
   ],
   "source": [
    "from sklearn.model_selection import GridSearchCV\n",
    "from xgboost import XGBRegressor\n",
    "# Provide range for max_depth from 1 to 20 with an interval of 2 and from 1 to 200 with an interval of 20 for n_estimators \n",
    "xg=XGBRegressor()\n",
    "paramgrid = {'max_depth': list(range(1, 20, 2)), 'n_estimators': list(range(1, 200, 20))}\n",
    "grid_search=GridSearchCV(xg,paramgrid,cv=15)\n",
    "# Fit the grid search model \n",
    "grid_search.fit(pca_train_data,y_tr)"
   ]
  },
  {
   "cell_type": "code",
   "execution_count": 45,
   "metadata": {},
   "outputs": [
    {
     "data": {
      "text/plain": [
       "XGBRegressor(base_score=0.5, booster='gbtree', colsample_bylevel=1,\n",
       "             colsample_bynode=1, colsample_bytree=1, gamma=0, gpu_id=-1,\n",
       "             importance_type='gain', interaction_constraints='',\n",
       "             learning_rate=0.300000012, max_delta_step=0, max_depth=1,\n",
       "             min_child_weight=1, missing=nan, monotone_constraints='()',\n",
       "             n_estimators=21, n_jobs=0, num_parallel_tree=1,\n",
       "             objective='reg:squarederror', random_state=0, reg_alpha=0,\n",
       "             reg_lambda=1, scale_pos_weight=1, subsample=1, tree_method='exact',\n",
       "             validate_parameters=1, verbosity=None)"
      ]
     },
     "execution_count": 45,
     "metadata": {},
     "output_type": "execute_result"
    }
   ],
   "source": [
    "grid_search.best_estimator_"
   ]
  },
  {
   "cell_type": "code",
   "execution_count": 46,
   "metadata": {},
   "outputs": [
    {
     "name": "stdout",
     "output_type": "stream",
     "text": [
      "80.90235293188333\n"
     ]
    }
   ],
   "source": [
    "xgb=XGBRegressor(base_score=0.5, booster='gbtree', colsample_bylevel=1,\n",
    "             colsample_bynode=1, colsample_bytree=1, gamma=0, gpu_id=-1,\n",
    "             importance_type='gain', interaction_constraints='',\n",
    "             learning_rate=0.300000012, max_delta_step=0, max_depth=1,\n",
    "             min_child_weight=1, missing=None, monotone_constraints='()',\n",
    "             n_estimators=21, n_jobs=0, num_parallel_tree=1,\n",
    "             objective='reg:squarederror', random_state=0, reg_alpha=0,\n",
    "             reg_lambda=1, scale_pos_weight=1, subsample=1, tree_method='exact',\n",
    "             validate_parameters=1, verbosity=None)\n",
    "xgmod=xgb.fit(pca_train_data,y_tr)\n",
    "xg_pred=xgmod.predict(pca_test_data)\n",
    "from sklearn.metrics import mean_squared_error\n",
    "\n",
    "from math import sqrt\n",
    "\n",
    "rmse = sqrt(mean_squared_error(y_te, xg_pred))\n",
    "score=100*max(0,1-rmse)\n",
    "\n",
    "print(score)"
   ]
  },
  {
   "cell_type": "code",
   "execution_count": 133,
   "metadata": {},
   "outputs": [
    {
     "data": {
      "text/plain": [
       "-0.004074730704190399"
      ]
     },
     "execution_count": 133,
     "metadata": {},
     "output_type": "execute_result"
    }
   ],
   "source": [
    "from sklearn import metrics\n",
    "metrics.r2_score(y_te,xg_pred)"
   ]
  },
  {
   "cell_type": "code",
   "execution_count": 76,
   "metadata": {},
   "outputs": [],
   "source": [
    "predo_test = model.predict(pca_test)\n",
    "test_origin=test_original.copy()\n",
    "test_origin['Attrition_rate']=predo_test\n"
   ]
  },
  {
   "cell_type": "code",
   "execution_count": 77,
   "metadata": {},
   "outputs": [],
   "source": [
    "pd.DataFrame(test_origin, columns=['Employee_ID','Attrition_rate']).to_csv('C:/Users/Dell/Downloads/trialXGB12.csv',mode = 'w', index=False)"
   ]
  },
  {
   "cell_type": "code",
   "execution_count": 47,
   "metadata": {
    "scrolled": true
   },
   "outputs": [
    {
     "data": {
      "text/plain": [
       "GridSearchCV(cv=5, error_score='raise-deprecating',\n",
       "             estimator=Ridge(alpha=1.0, copy_X=True, fit_intercept=True,\n",
       "                             max_iter=None, normalize=False, random_state=None,\n",
       "                             solver='auto', tol=0.001),\n",
       "             iid='warn', n_jobs=None,\n",
       "             param_grid={'alpha': [1, 2, 3, 4, 5, 6, 7, 8, 9, 10, 11, 12, 13,\n",
       "                                   14, 15, 16, 17, 18, 19, 20, 21, 22, 23, 24,\n",
       "                                   25, 26, 27, 28, 29, 30, ...]},\n",
       "             pre_dispatch='2*n_jobs', refit=True, return_train_score=False,\n",
       "             scoring=None, verbose=0)"
      ]
     },
     "execution_count": 47,
     "metadata": {},
     "output_type": "execute_result"
    }
   ],
   "source": [
    "import sklearn.model_selection as ms\n",
    "from sklearn.linear_model import Ridge\n",
    "import math\n",
    "\n",
    "ridge=Ridge()\n",
    "parameters= {'alpha':[x for x in range(1,101)]}\n",
    "ridge_reg=ms.GridSearchCV(ridge, param_grid=parameters,cv=5)\n",
    "ridge_reg.fit(pca_train_data,y_tr)"
   ]
  },
  {
   "cell_type": "code",
   "execution_count": 48,
   "metadata": {},
   "outputs": [
    {
     "data": {
      "text/plain": [
       "Ridge(alpha=100, copy_X=True, fit_intercept=True, max_iter=None,\n",
       "      normalize=False, random_state=None, solver='auto', tol=0.001)"
      ]
     },
     "execution_count": 48,
     "metadata": {},
     "output_type": "execute_result"
    }
   ],
   "source": [
    "ridge_reg.best_estimator_"
   ]
  },
  {
   "cell_type": "code",
   "execution_count": 49,
   "metadata": {},
   "outputs": [
    {
     "name": "stdout",
     "output_type": "stream",
     "text": [
      "80.91133533038548\n"
     ]
    }
   ],
   "source": [
    "ridge_mod=Ridge(alpha=100, copy_X=True, fit_intercept=True, max_iter=None,\n",
    "      normalize=False, random_state=None, solver='auto', tol=0.001)\n",
    "ridge_model=ridge_mod.fit(pca_train_data,y_tr)\n",
    "\n",
    "y_pred_test=ridge_model.predict(pca_test_data)\n",
    "from sklearn.metrics import mean_squared_error\n",
    "\n",
    "from math import sqrt\n",
    "\n",
    "rmse = sqrt(mean_squared_error(y_te, y_pred_test))\n",
    "score=100*max(0,1-rmse)\n",
    "\n",
    "print(score)\n"
   ]
  },
  {
   "cell_type": "code",
   "execution_count": 59,
   "metadata": {},
   "outputs": [],
   "source": [
    "ridge_pred_test=ridge_mod.predict(pca_test)"
   ]
  },
  {
   "cell_type": "code",
   "execution_count": 61,
   "metadata": {},
   "outputs": [
    {
     "data": {
      "text/plain": [
       "array([0.1858809 , 0.1914513 , 0.17961888, ..., 0.19105951, 0.18213128,\n",
       "       0.19384813])"
      ]
     },
     "execution_count": 61,
     "metadata": {},
     "output_type": "execute_result"
    }
   ],
   "source": [
    "ridge_pred_test"
   ]
  },
  {
   "cell_type": "code",
   "execution_count": 63,
   "metadata": {},
   "outputs": [],
   "source": [
    "test_origine=test_original.copy()\n",
    "test_origine['Attrition_rate']=ridge_pred_test"
   ]
  },
  {
   "cell_type": "code",
   "execution_count": 64,
   "metadata": {},
   "outputs": [],
   "source": [
    "pd.DataFrame(test_origine, columns=['Employee_ID','Attrition_rate']).to_csv('C:/Users/Dell/Downloads/trialRidge11.csv',mode = 'w', index=False)"
   ]
  },
  {
   "cell_type": "code",
   "execution_count": 50,
   "metadata": {},
   "outputs": [
    {
     "data": {
      "text/plain": [
       "GridSearchCV(cv=5, error_score='raise-deprecating',\n",
       "             estimator=Lasso(alpha=1.0, copy_X=True, fit_intercept=True,\n",
       "                             max_iter=1000, normalize=False, positive=False,\n",
       "                             precompute=False, random_state=None,\n",
       "                             selection='cyclic', tol=0.0001, warm_start=False),\n",
       "             iid='warn', n_jobs=None,\n",
       "             param_grid={'alpha': [0.0001, 0.0009, 0.001, 0.002, 0.003, 0.01,\n",
       "                                   0.1, 1, 10, 100]},\n",
       "             pre_dispatch='2*n_jobs', refit=True, return_train_score=False,\n",
       "             scoring='neg_mean_squared_error', verbose=0)"
      ]
     },
     "execution_count": 50,
     "metadata": {},
     "output_type": "execute_result"
    }
   ],
   "source": [
    "from sklearn.linear_model import Lasso\n",
    "import sklearn.model_selection as ms\n",
    "import math\n",
    "parameters= {'alpha':[0.0001,0.0009,0.001,0.002,0.003,0.01,0.1,1,10,100]}\n",
    "\n",
    "\n",
    "lasso=Lasso()\n",
    "lasso_reg=ms.GridSearchCV(lasso, param_grid=parameters, scoring='neg_mean_squared_error', cv=5)\n",
    "lasso_reg.fit(pca_train_data,y_tr)"
   ]
  },
  {
   "cell_type": "code",
   "execution_count": 51,
   "metadata": {},
   "outputs": [
    {
     "data": {
      "text/plain": [
       "Lasso(alpha=0.001, copy_X=True, fit_intercept=True, max_iter=1000,\n",
       "      normalize=False, positive=False, precompute=False, random_state=None,\n",
       "      selection='cyclic', tol=0.0001, warm_start=False)"
      ]
     },
     "execution_count": 51,
     "metadata": {},
     "output_type": "execute_result"
    }
   ],
   "source": [
    "lasso_reg.best_estimator_"
   ]
  },
  {
   "cell_type": "code",
   "execution_count": 52,
   "metadata": {},
   "outputs": [
    {
     "name": "stdout",
     "output_type": "stream",
     "text": [
      "80.92238628701963\n"
     ]
    }
   ],
   "source": [
    "lasso_model=Lasso(alpha=0.01, copy_X=True, fit_intercept=True, max_iter=1000,\n",
    "      normalize=False, positive=False, precompute=False, random_state=None,\n",
    "      selection='cyclic', tol=0.0001, warm_start=False)\n",
    "lasso_model.fit(pca_train_data,y_tr)\n",
    "lasso_pred_test=lasso_model.predict(pca_test_data)\n",
    "from sklearn.metrics import mean_squared_error\n",
    "\n",
    "from math import sqrt\n",
    "\n",
    "rmse = sqrt(mean_squared_error(y_te, lasso_pred_test))\n",
    "score=100*max(0,1-rmse)\n",
    "\n",
    "print(score)\n"
   ]
  },
  {
   "cell_type": "code",
   "execution_count": 53,
   "metadata": {},
   "outputs": [],
   "source": [
    "lasso_pred_test=lasso_model.predict(pca_test)"
   ]
  },
  {
   "cell_type": "code",
   "execution_count": 89,
   "metadata": {},
   "outputs": [],
   "source": [
    "test_originel=test_original.copy()\n",
    "test_originel['Attrition_rate']=lasso_pred_test"
   ]
  },
  {
   "cell_type": "code",
   "execution_count": 90,
   "metadata": {},
   "outputs": [],
   "source": [
    "pd.DataFrame(test_originel, columns=['Employee_ID','Attrition_rate']).to_csv('C:/Users/Dell/Downloads/triallasso5.csv',mode = 'w', index=False)"
   ]
  },
  {
   "cell_type": "code",
   "execution_count": 54,
   "metadata": {},
   "outputs": [
    {
     "name": "stdout",
     "output_type": "stream",
     "text": [
      "80.92238628701963\n"
     ]
    }
   ],
   "source": [
    "from sklearn.linear_model import ElasticNetCV\n",
    "\n",
    "alphas = [1.0]\n",
    "l1ratio = [0.1, .5, .7, .9, .95, .99, 1]\n",
    "\n",
    "elastic_cv = ElasticNetCV(cv=5, max_iter=1e7, alphas=alphas,  l1_ratio=l1ratio)\n",
    "\n",
    "elasticmod = elastic_cv.fit(pca_train_data,y_tr)\n",
    "ela_pred=elasticmod.predict(pca_test_data)\n",
    "from sklearn.metrics import mean_squared_error\n",
    "\n",
    "from math import sqrt\n",
    "\n",
    "rmse = sqrt(mean_squared_error(y_te,ela_pred))\n",
    "score=100*max(0,1-rmse)\n",
    "\n",
    "print(score)\n"
   ]
  },
  {
   "cell_type": "code",
   "execution_count": 55,
   "metadata": {},
   "outputs": [],
   "source": [
    "ela_pred_test=elasticmod.predict(pca_test)"
   ]
  },
  {
   "cell_type": "code",
   "execution_count": 93,
   "metadata": {},
   "outputs": [],
   "source": [
    "test_oor=test_original.copy()"
   ]
  },
  {
   "cell_type": "code",
   "execution_count": 94,
   "metadata": {},
   "outputs": [],
   "source": [
    "test_oor['Attrition_rate']=ela_pred_test"
   ]
  },
  {
   "cell_type": "code",
   "execution_count": 95,
   "metadata": {},
   "outputs": [],
   "source": [
    "pd.DataFrame(test_oor, columns=['Employee_ID','Attrition_rate']).to_csv('C:/Users/Dell/Downloads/trial2ElASCR.csv',mode = 'w', index=False)"
   ]
  },
  {
   "cell_type": "code",
   "execution_count": 56,
   "metadata": {},
   "outputs": [
    {
     "data": {
      "text/plain": [
       "ElasticNetCV(alphas=None, copy_X=True, cv=5, eps=0.001, fit_intercept=True,\n",
       "             l1_ratio=[0.1, 0.5, 0.7, 0.9, 0.95, 0.99, 0.995, 1], max_iter=2000,\n",
       "             n_alphas=100, n_jobs=-1, normalize=True, positive=False,\n",
       "             precompute='auto', random_state=None, selection='cyclic',\n",
       "             tol=0.0001, verbose=0)"
      ]
     },
     "execution_count": 56,
     "metadata": {},
     "output_type": "execute_result"
    }
   ],
   "source": [
    "from sklearn.linear_model import ElasticNetCV, ElasticNet\n",
    "\n",
    "cv_model = ElasticNetCV(l1_ratio=[.1, .5, .7, .9, .95, .99, .995, 1], eps=0.001, n_alphas=100, fit_intercept=True, \n",
    "                        normalize=True, precompute='auto', max_iter=2000, tol=0.0001, cv=5, \n",
    "                        copy_X=True, verbose=0, n_jobs=-1, positive=False, random_state=None, selection='cyclic')\n",
    "cv_model.fit(pca_train_data,y_tr)"
   ]
  },
  {
   "cell_type": "code",
   "execution_count": 57,
   "metadata": {},
   "outputs": [
    {
     "name": "stdout",
     "output_type": "stream",
     "text": [
      "Optimal alpha: 0.00010491\n",
      "Optimal l1_ratio: 0.100\n",
      "Number of iterations 2\n"
     ]
    }
   ],
   "source": [
    "print('Optimal alpha: %.8f'%cv_model.alpha_)\n",
    "print('Optimal l1_ratio: %.3f'%cv_model.l1_ratio_)\n",
    "print('Number of iterations %d'%cv_model.n_iter_)"
   ]
  },
  {
   "cell_type": "code",
   "execution_count": 58,
   "metadata": {},
   "outputs": [
    {
     "name": "stdout",
     "output_type": "stream",
     "text": [
      "80.91798229569922\n"
     ]
    }
   ],
   "source": [
    "ElasticModel = ElasticNet(l1_ratio=cv_model.l1_ratio_, alpha = cv_model.alpha_, max_iter=cv_model.n_iter_, fit_intercept=True, normalize = True)\n",
    "ElasticModel.fit(pca_train_data,y_tr)\n",
    "elastic_pred=ElasticModel.predict(pca_test_data)\n",
    "from sklearn.metrics import mean_squared_error\n",
    "\n",
    "from math import sqrt\n",
    "\n",
    "rmse = sqrt(mean_squared_error(y_te,elastic_pred))\n",
    "score=100*max(0,1-rmse)\n",
    "\n",
    "print(score)"
   ]
  },
  {
   "cell_type": "code",
   "execution_count": 59,
   "metadata": {},
   "outputs": [],
   "source": [
    "Rub_pred_test=ElasticModel.predict(pca_test)"
   ]
  },
  {
   "cell_type": "code",
   "execution_count": 102,
   "metadata": {},
   "outputs": [],
   "source": [
    "test_oxr=test_original.copy()"
   ]
  },
  {
   "cell_type": "code",
   "execution_count": 103,
   "metadata": {},
   "outputs": [],
   "source": [
    "test_oxr['Attrition_rate']=Rub_pred_test"
   ]
  },
  {
   "cell_type": "code",
   "execution_count": 104,
   "metadata": {},
   "outputs": [],
   "source": [
    "pd.DataFrame(test_oxr, columns=['Employee_ID','Attrition_rate']).to_csv('C:/Users/Dell/Downloads/trial2ElASTICMOD.csv',mode = 'w', index=False)"
   ]
  },
  {
   "cell_type": "code",
   "execution_count": 60,
   "metadata": {},
   "outputs": [],
   "source": [
    "from sklearn.model_selection import cross_val_score, GridSearchCV\n",
    "from sklearn.ensemble import RandomForestRegressor"
   ]
  },
  {
   "cell_type": "code",
   "execution_count": 61,
   "metadata": {},
   "outputs": [
    {
     "name": "stderr",
     "output_type": "stream",
     "text": [
      "C:\\Users\\DELL\\Anaconda3\\lib\\site-packages\\sklearn\\model_selection\\_split.py:1978: FutureWarning: The default value of cv will change from 3 to 5 in version 0.22. Specify it explicitly to silence this warning.\n",
      "  warnings.warn(CV_WARNING, FutureWarning)\n"
     ]
    },
    {
     "name": "stdout",
     "output_type": "stream",
     "text": [
      "80.91446477079418\n"
     ]
    }
   ],
   "source": [
    "gsc = GridSearchCV(\n",
    "        estimator=RandomForestRegressor(),\n",
    "        param_grid={\n",
    "            'max_depth': range(3,7),\n",
    "            'n_estimators': (10, 50, 100, 1000),\n",
    "        },\n",
    "         scoring='neg_mean_squared_error', verbose=0,n_jobs=-1)\n",
    "    \n",
    "grid_result = gsc.fit(pca_train_data, y_tr)\n",
    "best_params = grid_result.best_params_\n",
    "    \n",
    "rfr = RandomForestRegressor(max_depth=best_params[\"max_depth\"], n_estimators=best_params[\"n_estimators\"], random_state=False, verbose=False)\n",
    "rfr.fit(pca_train_data, y_tr)\n",
    "rfr_pred=rfr.predict(pca_test_data)\n",
    "from math import sqrt\n",
    "\n",
    "rmse = sqrt(mean_squared_error(y_te,rfr_pred))\n",
    "score=100*max(0,1-rmse)\n",
    "\n",
    "print(score)"
   ]
  },
  {
   "cell_type": "code",
   "execution_count": 89,
   "metadata": {},
   "outputs": [
    {
     "name": "stdout",
     "output_type": "stream",
     "text": [
      "AdaBoostRegressor(base_estimator=RandomForestRegressor(bootstrap=True,\n",
      "                                                       criterion='mse',\n",
      "                                                       max_depth=3,\n",
      "                                                       max_features='auto',\n",
      "                                                       max_leaf_nodes=None,\n",
      "                                                       min_impurity_decrease=0.0,\n",
      "                                                       min_impurity_split=None,\n",
      "                                                       min_samples_leaf=1,\n",
      "                                                       min_samples_split=2,\n",
      "                                                       min_weight_fraction_leaf=0.0,\n",
      "                                                       n_estimators=100,\n",
      "                                                       n_jobs=None,\n",
      "                                                       oob_score=False,\n",
      "                                                       random_state=False,\n",
      "                                                       verbose=False,\n",
      "                                                       warm_start=False),\n",
      "                  learning_rate=0.1, loss='linear', n_estimators=500,\n",
      "                  random_state=0)\n"
     ]
    },
    {
     "data": {
      "text/plain": [
       "AdaBoostRegressor(base_estimator=RandomForestRegressor(bootstrap=True,\n",
       "                                                       criterion='mse',\n",
       "                                                       max_depth=3,\n",
       "                                                       max_features='auto',\n",
       "                                                       max_leaf_nodes=None,\n",
       "                                                       min_impurity_decrease=0.0,\n",
       "                                                       min_impurity_split=None,\n",
       "                                                       min_samples_leaf=1,\n",
       "                                                       min_samples_split=2,\n",
       "                                                       min_weight_fraction_leaf=0.0,\n",
       "                                                       n_estimators=100,\n",
       "                                                       n_jobs=None,\n",
       "                                                       oob_score=False,\n",
       "                                                       random_state=False,\n",
       "                                                       verbose=False,\n",
       "                                                       warm_start=False),\n",
       "                  learning_rate=0.1, loss='linear', n_estimators=500,\n",
       "                  random_state=0)"
      ]
     },
     "execution_count": 89,
     "metadata": {},
     "output_type": "execute_result"
    }
   ],
   "source": [
    "from sklearn.ensemble import AdaBoostRegressor\n",
    "\n",
    "ada_reg = AdaBoostRegressor(base_estimator=rfr,\n",
    "                        n_estimators=500,\n",
    "                        learning_rate=0.1,\n",
    "                        random_state=0)\n",
    "print(ada_reg)\n",
    "\n",
    "ada_reg.fit(pca_train_data, y_tr)"
   ]
  },
  {
   "cell_type": "code",
   "execution_count": 90,
   "metadata": {},
   "outputs": [],
   "source": [
    "ada_pred=ada_reg.predict(pca_test_data)"
   ]
  },
  {
   "cell_type": "code",
   "execution_count": 91,
   "metadata": {},
   "outputs": [
    {
     "name": "stdout",
     "output_type": "stream",
     "text": [
      "79.74738722546277\n"
     ]
    }
   ],
   "source": [
    "from math import sqrt\n",
    "\n",
    "rmse = sqrt(mean_squared_error(y_te,ada_pred))\n",
    "score=100*max(0,1-rmse)\n",
    "\n",
    "print(score)"
   ]
  },
  {
   "cell_type": "code",
   "execution_count": 110,
   "metadata": {},
   "outputs": [
    {
     "name": "stdout",
     "output_type": "stream",
     "text": [
      "81.12152090682847\n"
     ]
    }
   ],
   "source": [
    "from mlxtend.regressor import StackingRegressor\n",
    "\n",
    "\n",
    "stregr = StackingRegressor(regressors=[lasso_model,elasticmod,xgmod], \n",
    "                           meta_regressor=xgb, use_features_in_secondary=True\n",
    "                          )\n",
    "\n",
    "stack_mod=stregr.fit(pca_train_data, y_tr.ravel())\n",
    "stacking_pred=stack_mod.predict(pca_test_data)\n",
    "from sklearn.metrics import mean_squared_error\n",
    "\n",
    "from math import sqrt\n",
    "\n",
    "rmse = sqrt(mean_squared_error(y_te,stacking_pred))\n",
    "score=100*max(0,1-rmse)\n",
    "\n",
    "print(score)"
   ]
  },
  {
   "cell_type": "code",
   "execution_count": 111,
   "metadata": {},
   "outputs": [],
   "source": [
    "sta_pred_test=stack_mod.predict(pca_test)"
   ]
  },
  {
   "cell_type": "code",
   "execution_count": 112,
   "metadata": {},
   "outputs": [],
   "source": [
    "test_oxcr=test_original.copy()"
   ]
  },
  {
   "cell_type": "code",
   "execution_count": 113,
   "metadata": {},
   "outputs": [],
   "source": [
    "test_oxcr['Attrition_rate']=sta_pred_test"
   ]
  },
  {
   "cell_type": "code",
   "execution_count": 114,
   "metadata": {},
   "outputs": [],
   "source": [
    "pd.DataFrame(test_oxcr, columns=['Employee_ID','Attrition_rate']).to_csv('C:/Users/Dell/Downloads/StackMOD.csv',mode = 'w', index=False)"
   ]
  },
  {
   "cell_type": "code",
   "execution_count": 115,
   "metadata": {},
   "outputs": [],
   "source": [
    "import numpy as np\n",
    "from lightgbm import LGBMRegressor\n",
    "from sklearn.model_selection import cross_val_score\n"
   ]
  },
  {
   "cell_type": "code",
   "execution_count": 116,
   "metadata": {},
   "outputs": [],
   "source": [
    "modelReg  = LGBMRegressor(num_iterations=2000, learning_rate=0.03)"
   ]
  },
  {
   "cell_type": "code",
   "execution_count": 117,
   "metadata": {},
   "outputs": [
    {
     "name": "stderr",
     "output_type": "stream",
     "text": [
      "C:\\Users\\DELL\\Anaconda3\\lib\\site-packages\\lightgbm\\engine.py:148: UserWarning: Found `num_iterations` in params. Will use it instead of argument\n",
      "  warnings.warn(\"Found `{}` in params. Will use it instead of argument\".format(alias))\n"
     ]
    },
    {
     "data": {
      "text/plain": [
       "LGBMRegressor(boosting_type='gbdt', class_weight=None, colsample_bytree=1.0,\n",
       "              importance_type='split', learning_rate=0.03, max_depth=-1,\n",
       "              min_child_samples=20, min_child_weight=0.001, min_split_gain=0.0,\n",
       "              n_estimators=100, n_jobs=-1, num_iterations=2000, num_leaves=31,\n",
       "              objective=None, random_state=None, reg_alpha=0.0, reg_lambda=0.0,\n",
       "              silent=True, subsample=1.0, subsample_for_bin=200000,\n",
       "              subsample_freq=0)"
      ]
     },
     "execution_count": 117,
     "metadata": {},
     "output_type": "execute_result"
    }
   ],
   "source": [
    "modelReg.fit(pca_train_data,y_tr)"
   ]
  },
  {
   "cell_type": "code",
   "execution_count": 118,
   "metadata": {},
   "outputs": [],
   "source": [
    "modePred=modelReg.predict(pca_test_data)"
   ]
  },
  {
   "cell_type": "code",
   "execution_count": 119,
   "metadata": {},
   "outputs": [
    {
     "name": "stdout",
     "output_type": "stream",
     "text": [
      "79.32184378841353\n"
     ]
    }
   ],
   "source": [
    "from sklearn.metrics import mean_squared_error\n",
    "\n",
    "from math import sqrt\n",
    "\n",
    "rmse = sqrt(mean_squared_error(y_te,modePred))\n",
    "score=100*max(0,1-rmse)\n",
    "\n",
    "print(score)"
   ]
  },
  {
   "cell_type": "code",
   "execution_count": 84,
   "metadata": {},
   "outputs": [
    {
     "name": "stdout",
     "output_type": "stream",
     "text": [
      "Collecting lightgbm\n",
      "  Downloading https://files.pythonhosted.org/packages/1f/cb/a8ec24334c35a7d0c87b4e4e056bd2137573c7c1bd81c760b79a2f370254/lightgbm-2.3.1-py2.py3-none-win_amd64.whl (544kB)\n",
      "Requirement already satisfied: numpy in c:\\users\\dell\\anaconda3\\lib\\site-packages (from lightgbm) (1.16.5)\n",
      "Requirement already satisfied: scikit-learn in c:\\users\\dell\\anaconda3\\lib\\site-packages (from lightgbm) (0.21.3)\n",
      "Requirement already satisfied: scipy in c:\\users\\dell\\anaconda3\\lib\\site-packages (from lightgbm) (1.3.1)\n",
      "Requirement already satisfied: joblib>=0.11 in c:\\users\\dell\\anaconda3\\lib\\site-packages (from scikit-learn->lightgbm) (0.13.2)\n",
      "Installing collected packages: lightgbm\n",
      "Successfully installed lightgbm-2.3.1\n",
      "Note: you may need to restart the kernel to use updated packages.\n"
     ]
    }
   ],
   "source": [
    "pip install lightgbm"
   ]
  },
  {
   "cell_type": "code",
   "execution_count": 149,
   "metadata": {},
   "outputs": [
    {
     "name": "stderr",
     "output_type": "stream",
     "text": [
      "C:\\Users\\DELL\\Anaconda3\\lib\\site-packages\\sklearn\\model_selection\\_split.py:1978: FutureWarning: The default value of cv will change from 3 to 5 in version 0.22. Specify it explicitly to silence this warning.\n",
      "  warnings.warn(CV_WARNING, FutureWarning)\n"
     ]
    },
    {
     "data": {
      "text/plain": [
       "GridSearchCV(cv='warn', error_score='raise-deprecating',\n",
       "             estimator=BaggingRegressor(base_estimator=None, bootstrap=True,\n",
       "                                        bootstrap_features=False,\n",
       "                                        max_features=1.0, max_samples=1.0,\n",
       "                                        n_estimators=10, n_jobs=None,\n",
       "                                        oob_score=False, random_state=None,\n",
       "                                        verbose=0, warm_start=False),\n",
       "             iid='warn', n_jobs=None,\n",
       "             param_grid={'max_features': (0.25, 0.5, 0.75),\n",
       "                         'n_estimators': (10, 50, 100, 1000)},\n",
       "             pre_dispatch='2*n_jobs', refit=True, return_train_score=False,\n",
       "             scoring=None, verbose=0)"
      ]
     },
     "execution_count": 149,
     "metadata": {},
     "output_type": "execute_result"
    }
   ],
   "source": [
    "from sklearn.ensemble import BaggingRegressor\n",
    "\n",
    "from sklearn import tree\n",
    "params_bag_GS = {'n_estimators' : (10, 50, 100, 1000), \n",
    "                   'max_features' : (0.25,0.5,0.75)}\n",
    "\n",
    "modelBag = BaggingRegressor()\n",
    "Bag_model_GS = GridSearchCV(modelBag, param_grid=params_bag_GS)\n",
    "\n",
    "Bag_model_GS.fit(pca_train_data, y_tr)"
   ]
  },
  {
   "cell_type": "code",
   "execution_count": 153,
   "metadata": {},
   "outputs": [
    {
     "data": {
      "text/plain": [
       "BaggingRegressor(base_estimator=None, bootstrap=True, bootstrap_features=False,\n",
       "                 max_features=0.5, max_samples=1.0, n_estimators=1000,\n",
       "                 n_jobs=None, oob_score=False, random_state=None, verbose=0,\n",
       "                 warm_start=False)"
      ]
     },
     "execution_count": 153,
     "metadata": {},
     "output_type": "execute_result"
    }
   ],
   "source": [
    "Bag_model_GS.best_estimator_"
   ]
  },
  {
   "cell_type": "code",
   "execution_count": 154,
   "metadata": {},
   "outputs": [
    {
     "name": "stdout",
     "output_type": "stream",
     "text": [
      "78.85021616492345\n"
     ]
    }
   ],
   "source": [
    "mods = BaggingRegressor(base_estimator=None, bootstrap=True, bootstrap_features=False,\n",
    "                 max_features=0.5, max_samples=1.0, n_estimators=1000,\n",
    "                 n_jobs=None, oob_score=False, random_state=None, verbose=0,\n",
    "                 warm_start=False)\n",
    "mods.fit(pca_train_data, y_tr)\n",
    "mods_pred=mods.predict(pca_test_data)\n",
    "from math import sqrt\n",
    "\n",
    "rmse = sqrt(mean_squared_error(y_te,mods_pred))\n",
    "score=100*max(0,1-rmse)\n",
    "\n",
    "print(score)"
   ]
  },
  {
   "cell_type": "code",
   "execution_count": 136,
   "metadata": {},
   "outputs": [
    {
     "name": "stdout",
     "output_type": "stream",
     "text": [
      "79.63619792800515\n"
     ]
    }
   ],
   "source": [
    "from sklearn.metrics import mean_squared_error\n",
    "\n",
    "from math import sqrt\n",
    "\n",
    "rmse = sqrt(mean_squared_error(y_te,model_Pred))\n",
    "score=100*max(0,1-rmse)\n",
    "\n",
    "print(score)"
   ]
  },
  {
   "cell_type": "code",
   "execution_count": 62,
   "metadata": {},
   "outputs": [],
   "source": [
    "#VotingRegressor to predict the final Test\n",
    "import numpy as np\n",
    "xg_te=xgmod.predict(pca_test)\n",
    "final1=np.expm1(xg_te)\n",
    "#StackingRegressor to predict the final Test\n",
    "stack_test = ridge_mod.predict(pca_test)\n",
    "final2=np.expm1(stack_test)\n",
    "\n",
    "#LassoRegressor to predict the final Test\n",
    "lasso_test = lasso_model.predict(pca_test)\n",
    "final3=np.expm1(lasso_test)"
   ]
  },
  {
   "cell_type": "code",
   "execution_count": 63,
   "metadata": {},
   "outputs": [],
   "source": [
    "#Submission of the results predicted by the average of Voting/Stacking/Lasso\n",
    "final=(0.2*final1+0.4*final2+0.2*final3)\n"
   ]
  },
  {
   "cell_type": "code",
   "execution_count": 68,
   "metadata": {},
   "outputs": [
    {
     "data": {
      "text/plain": [
       "3000"
      ]
     },
     "execution_count": 68,
     "metadata": {},
     "output_type": "execute_result"
    }
   ],
   "source": [
    "final.size"
   ]
  },
  {
   "cell_type": "code",
   "execution_count": 179,
   "metadata": {},
   "outputs": [],
   "source": [
    "test_oxlr=test_original.copy()"
   ]
  },
  {
   "cell_type": "code",
   "execution_count": 180,
   "metadata": {},
   "outputs": [],
   "source": [
    "test_oxlr['Attrition_rate']=final"
   ]
  },
  {
   "cell_type": "code",
   "execution_count": 181,
   "metadata": {},
   "outputs": [],
   "source": [
    "pd.DataFrame(test_oxlr, columns=['Employee_ID','Attrition_rate']).to_csv('C:/Users/Dell/Downloads/finalMOD2.csv',mode = 'w', index=False)"
   ]
  },
  {
   "cell_type": "code",
   "execution_count": 158,
   "metadata": {},
   "outputs": [
    {
     "name": "stdout",
     "output_type": "stream",
     "text": [
      "81.01125391333956\n"
     ]
    }
   ],
   "source": [
    "from sklearn.metrics import mean_squared_error\n",
    "\n",
    "from math import sqrt\n",
    "\n",
    "rmse = sqrt(mean_squared_error(y_te,final))\n",
    "score=100*max(0,1-rmse)\n",
    "\n",
    "print(score)"
   ]
  },
  {
   "cell_type": "code",
   "execution_count": 38,
   "metadata": {},
   "outputs": [
    {
     "name": "stderr",
     "output_type": "stream",
     "text": [
      "C:\\Users\\DELL\\Anaconda3\\lib\\site-packages\\ipykernel_launcher.py:12: UserWarning: Update your `Dense` call to the Keras 2 API: `Dense(20, input_dim=2, activation=\"relu\", kernel_initializer=\"normal\")`\n",
      "  if sys.path[0] == '':\n",
      "C:\\Users\\DELL\\Anaconda3\\lib\\site-packages\\ipykernel_launcher.py:13: UserWarning: Update your `Dense` call to the Keras 2 API: `Dense(10, activation=\"relu\", kernel_initializer=\"normal\")`\n",
      "  del sys.path[0]\n",
      "C:\\Users\\DELL\\Anaconda3\\lib\\site-packages\\ipykernel_launcher.py:14: UserWarning: Update your `Dense` call to the Keras 2 API: `Dense(1, kernel_initializer=\"normal\")`\n",
      "  \n"
     ]
    },
    {
     "name": "stdout",
     "output_type": "stream",
     "text": [
      "81.4990802521874\n"
     ]
    }
   ],
   "source": [
    "from keras.models import Sequential\n",
    "from keras.layers import Dense\n",
    "from keras.wrappers.scikit_learn import KerasRegressor\n",
    "from sklearn.preprocessing import StandardScaler\n",
    "from sklearn.metrics import mean_squared_error\n",
    "np.random.seed(10)\n",
    "\n",
    "#create Model\n",
    "#define base model\n",
    "def base_model():\n",
    "     model = Sequential()\n",
    "     model.add(Dense(20, input_dim=2, init='normal', activation='relu'))\n",
    "     model.add(Dense(10, init='normal', activation='relu'))\n",
    "     model.add(Dense(1, init='normal'))\n",
    "     model.compile(loss='mean_squared_error', optimizer = 'adam')\n",
    "     return model\n",
    "\n",
    "seed = 7\n",
    "np.random.seed(seed)\n",
    "\n",
    "\n",
    "\n",
    "#keras_label = label_df.as_matrix()\n",
    "clf = KerasRegressor(build_fn=base_model, nb_epoch=1000, batch_size=5,verbose=0)\n",
    "clf.fit(pca_train_data,y_tr)\n",
    "\n",
    "#make predictions and create the submission file \n",
    "kpred = clf.predict(pca_test_data) \n",
    "#kpred = np.exp(kpred)\n",
    "#pred_df = pd.DataFrame(kpred, index=test[\"Id\"], columns=[\"SalePrice\"]) \n",
    "#pred_df.to_csv('keras1.csv', header=True, index_label='Id') \n",
    "from math import sqrt\n",
    "\n",
    "rmse = sqrt(mean_squared_error(y_te, kpred))\n",
    "score=100*max(0,1-rmse)\n",
    "\n",
    "print(score)"
   ]
  },
  {
   "cell_type": "code",
   "execution_count": 41,
   "metadata": {},
   "outputs": [],
   "source": [
    "kpreds=clf.predict(pca_test)\n",
    "kpredx = np.exp(kpreds)\n"
   ]
  },
  {
   "cell_type": "code",
   "execution_count": 42,
   "metadata": {},
   "outputs": [],
   "source": [
    "test_oxlre=test_original.copy()"
   ]
  },
  {
   "cell_type": "code",
   "execution_count": 43,
   "metadata": {},
   "outputs": [],
   "source": [
    "test_oxlre['Attrition_rate']=kpredx"
   ]
  },
  {
   "cell_type": "code",
   "execution_count": 44,
   "metadata": {},
   "outputs": [],
   "source": [
    "pd.DataFrame(test_oxlre, columns=['Employee_ID','Attrition_rate']).to_csv('C:/Users/Dell/Downloads/Neural.csv',mode = 'w', index=False)"
   ]
  },
  {
   "cell_type": "code",
   "execution_count": null,
   "metadata": {},
   "outputs": [],
   "source": []
  }
 ],
 "metadata": {
  "kernelspec": {
   "display_name": "Python 3",
   "language": "python",
   "name": "python3"
  },
  "language_info": {
   "codemirror_mode": {
    "name": "ipython",
    "version": 3
   },
   "file_extension": ".py",
   "mimetype": "text/x-python",
   "name": "python",
   "nbconvert_exporter": "python",
   "pygments_lexer": "ipython3",
   "version": "3.7.4"
  }
 },
 "nbformat": 4,
 "nbformat_minor": 2
}
